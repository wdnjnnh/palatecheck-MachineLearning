{
 "cells": [
  {
   "cell_type": "code",
   "execution_count": null,
   "metadata": {},
   "outputs": [],
   "source": [
    "import pandas as pd\n",
    "from sklearn.feature_extraction.text import TfidfVectorizer\n",
    "from sklearn.metrics.pairwise import linear_kernel\n",
    "\n",
    "# Load dataset pengguna (users) dan kafe (cafes)\n",
    "df_users = pd.read_csv(\"path_to_users_dataset.csv\")\n",
    "df_cafes = pd.read_csv(\"path_to_cafes_dataset.csv\")\n",
    "\n",
    "# Menggabungkan kolom-kolom minat pengguna menjadi satu kolom teks\n",
    "df_users[\"user_interests\"] = df_users[[\"Kpopers\", \"JapanLovers\", \"AnimalLovers\", \"Quite\", \"MusicLovers\",\n",
    "                                       \"BookLovers\", \"ArtLovers\", \"ViewsLovers\", \"CoffeeLovers\", \"NonCoffeeLovers\"]].apply(lambda x: ' '.join(map(str, x)), axis=1)\n",
    "\n",
    "# Menggabungkan kolom-kolom fitur kafe menjadi satu kolom teks\n",
    "df_cafes[\"cafe_features\"] = df_cafes[[\"MeetingCafe\", \"StudyCafe\", \"Cafe with a good views\", \"FamilyCafe\",\n",
    "                                     \"CountryFood\", \"Smoking\", \"NonSmoking\", \"Coffee\", \"NonCoffee\", \"GardenCafe\"]].apply(lambda x: ' '.join(map(str, x)), axis=1)\n",
    "\n",
    "# Menggunakan TF-IDF Vectorizer untuk mengonversi teks ke vektor\n",
    "tfidf_vectorizer = TfidfVectorizer(stop_words='english')\n",
    "user_interests_matrix = tfidf_vectorizer.fit_transform(df_users[\"user_interests\"])\n",
    "cafe_features_matrix = tfidf_vectorizer.transform(df_cafes[\"cafe_features\"])\n",
    "\n",
    "# Menghitung similarity antara minat pengguna dan fitur kafe menggunakan cosine similarity\n",
    "cosine_similarities = linear_kernel(user_interests_matrix, cafe_features_matrix)\n",
    "\n",
    "# Fungsi untuk mendapatkan rekomendasi kafe berdasarkan minat pengguna\n",
    "def get_cafe_recommendations(user_id, cosine_similarities=cosine_similarities):\n",
    "    user_idx = df_users[df_users['User_id'] == user_id].index[0]\n",
    "    cafe_scores = list(enumerate(cosine_similarities[user_idx]))\n",
    "    cafe_scores = sorted(cafe_scores, key=lambda x: x[1], reverse=True)\n",
    "    cafe_indices = [score[0] for score in cafe_scores]\n",
    "    \n",
    "    # Mengembalikan nama kafe yang direkomendasikan\n",
    "    recommended_cafes = df_cafes.loc[cafe_indices][\"Name\"].tolist()\n",
    "    return recommended_cafes\n",
    "\n",
    "# Contoh penggunaan: Mendapatkan rekomendasi kafe untuk User_id 0\n",
    "user_id = 0\n",
    "recommendations = get_cafe_recommendations(user_id)\n",
    "print(f\"Rekomendasi kafe untuk User_id {user_id}:\", recommendations)\n"
   ]
  }
 ],
 "metadata": {
  "kernelspec": {
   "display_name": ".venv",
   "language": "python",
   "name": "python3"
  },
  "language_info": {
   "codemirror_mode": {
    "name": "ipython",
    "version": 3
   },
   "file_extension": ".py",
   "mimetype": "text/x-python",
   "name": "python",
   "nbconvert_exporter": "python",
   "pygments_lexer": "ipython3",
   "version": "3.10.5"
  }
 },
 "nbformat": 4,
 "nbformat_minor": 2
}
