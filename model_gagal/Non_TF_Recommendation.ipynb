{
 "cells": [
  {
   "cell_type": "code",
   "execution_count": 20,
   "metadata": {},
   "outputs": [],
   "source": [
    "import pandas as pd\n",
    "import numpy as np\n",
    "from sklearn.metrics.pairwise import cosine_similarity\n",
    "from sklearn.feature_extraction.text import TfidfVectorizer\n",
    "from nltk.corpus import stopwords\n",
    "import re\n",
    "import random\n",
    "from Sastrawi.StopWordRemover.StopWordRemoverFactory import StopWordRemoverFactory"
   ]
  },
  {
   "cell_type": "code",
   "execution_count": 21,
   "metadata": {},
   "outputs": [],
   "source": [
    "# Load the cafe dataset\n",
    "df_cafe = pd.read_csv('dataset/New_CafeJakarta.csv')"
   ]
  },
  {
   "cell_type": "code",
   "execution_count": 22,
   "metadata": {},
   "outputs": [
    {
     "data": {
      "text/plain": [
       "Index(['cafe_id', 'name', 'description', 'website', 'featured_image',\n",
       "       'main_category', 'categories', 'workday_timing', 'closed_on', 'phone',\n",
       "       'address', 'review_keywords', 'link', 'feature', 'outdoor', 'Indoor',\n",
       "       'RetroVintage', 'MinimalisCafe', 'IndustrialCafe', 'ModernCafe',\n",
       "       'ArtCafe', 'PetCafe', 'BooksCafe', '24HoursCafe', 'MeetingCafe',\n",
       "       'StudyCafe', 'goodViews', 'FamilyCafe', 'CountryFood', 'Smoking',\n",
       "       'NonSmoking', 'Coffee', 'NonCoffee', 'GardenCafe'],\n",
       "      dtype='object')"
      ]
     },
     "execution_count": 22,
     "metadata": {},
     "output_type": "execute_result"
    }
   ],
   "source": [
    "df_cafe.columns"
   ]
  },
  {
   "cell_type": "code",
   "execution_count": 23,
   "metadata": {},
   "outputs": [],
   "source": [
    "df_cafe = df_cafe.drop(['outdoor', 'Indoor',\n",
    "       'RetroVintage', 'MinimalisCafe', 'IndustrialCafe', 'ModernCafe',\n",
    "       'ArtCafe', 'PetCafe', 'BooksCafe', '24HoursCafe', 'MeetingCafe',\n",
    "       'StudyCafe', 'goodViews', 'FamilyCafe', 'CountryFood', 'Smoking',\n",
    "       'NonSmoking', 'Coffee', 'NonCoffee', 'GardenCafe'], axis=1)"
   ]
  },
  {
   "cell_type": "code",
   "execution_count": 24,
   "metadata": {},
   "outputs": [],
   "source": [
    "df_cafe = df_cafe.rename(columns={\"name\":\"cafe_name\"})"
   ]
  },
  {
   "cell_type": "code",
   "execution_count": 25,
   "metadata": {},
   "outputs": [
    {
     "data": {
      "text/plain": [
       "Index(['cafe_id', 'cafe_name', 'description', 'website', 'featured_image',\n",
       "       'main_category', 'categories', 'workday_timing', 'closed_on', 'phone',\n",
       "       'address', 'review_keywords', 'link', 'feature'],\n",
       "      dtype='object')"
      ]
     },
     "execution_count": 25,
     "metadata": {},
     "output_type": "execute_result"
    }
   ],
   "source": [
    "df_cafe.columns"
   ]
  },
  {
   "cell_type": "code",
   "execution_count": 26,
   "metadata": {},
   "outputs": [
    {
     "name": "stdout",
     "output_type": "stream",
     "text": [
      "0\n"
     ]
    }
   ],
   "source": [
    "# df_cafe[\"description\"].fillna(\"Tidak tersedia\", inplace=True)\n",
    "# df_cafe[\"website\"].fillna(\"Tidak tersedia\", inplace=True)\n",
    "\n",
    "print(df_cafe[\"feature\"].isnull().sum())\n",
    "\n",
    "# cafe_df[\"description\"] = cafe_df[\"description\"].replace(\"NaN\", \"Tidak ada deskripsi\")\n",
    "# df_cafe.info()"
   ]
  },
  {
   "cell_type": "code",
   "execution_count": 27,
   "metadata": {},
   "outputs": [],
   "source": [
    "def print_cafe_feature(index):\n",
    "    example = df_cafe[df_cafe.index == index][['cafe_name', 'address', 'feature']].values[0]\n",
    "    if len(example) > 0:\n",
    "        print('Cafe name:', example[0])\n",
    "        print('Address:', example[1])\n",
    "        print('Feature:', example[2])"
   ]
  },
  {
   "cell_type": "code",
   "execution_count": 28,
   "metadata": {},
   "outputs": [
    {
     "name": "stdout",
     "output_type": "stream",
     "text": [
      "Cafe name: Bakoel Koffie Cikini\n",
      "Address: Bakoel Koffie Cikini, Jl. Cikini Raya No.25, RT.16/RW.1, Cikini, Kec. Menteng, Kota Jakarta Pusat, Daerah Khusus Ibukota Jakarta 10330\n",
      "Feature: outdoor, indoor, vintage, art cafe, meeting cafe, study cafe, smoking, nonsmoking, coffee, noncoffee\n"
     ]
    }
   ],
   "source": [
    "print_cafe_feature(0)"
   ]
  },
  {
   "cell_type": "code",
   "execution_count": 29,
   "metadata": {},
   "outputs": [
    {
     "name": "stdout",
     "output_type": "stream",
     "text": [
      "Cafe name: Hause Rooftop\n",
      "Address: Hause Rooftop, Md Place, Jl. Setia Budi Selatan No.7, RT.5/RW.1, Kuningan, Setia Budi, Kecamatan Setiabudi, Kota Jakarta Selatan, Daerah Khusus Ibukota Jakarta 12910\n",
      "Feature: outdoor, indoor, modern cafe, meeting cafe, study cafe, good views, family cafe, smoking, nonsmoking, coffee, noncoffee, garden cafe\n"
     ]
    }
   ],
   "source": [
    "print_cafe_feature(11)"
   ]
  },
  {
   "cell_type": "code",
   "execution_count": 30,
   "metadata": {},
   "outputs": [
    {
     "name": "stdout",
     "output_type": "stream",
     "text": [
      "Cafe name: Blumchen Coffee\n",
      "Address: Blumchen Coffee, Fairground SCBD Lot 14, Jl. Jend. Sudirman kav 52-53 No.Kav 52-53, RT.5/RW.3, Senayan, Kec. Kby. Baru, Kota Jakarta Selatan, Daerah Khusus Ibukota Jakarta 12190\n",
      "Feature: indoor, vintage, art cafe, meeting cafe, family cafe, nonsmoking, coffee, noncoffee\n"
     ]
    }
   ],
   "source": [
    "print_cafe_feature(40)"
   ]
  },
  {
   "cell_type": "code",
   "execution_count": 32,
   "metadata": {},
   "outputs": [
    {
     "data": {
      "text/plain": [
       "array([[1.        , 0.48677596, 0.21031335, ..., 0.20109829, 0.348863  ,\n",
       "        0.34399495],\n",
       "       [0.48677596, 1.        , 0.36182558, ..., 0.24510972, 0.23150036,\n",
       "        0.37041063],\n",
       "       [0.21031335, 0.36182558, 1.        , ..., 0.08057067, 0.08299038,\n",
       "        0.20061869],\n",
       "       ...,\n",
       "       [0.20109829, 0.24510972, 0.08057067, ..., 1.        , 0.49090403,\n",
       "        0.08883776],\n",
       "       [0.348863  , 0.23150036, 0.08299038, ..., 0.49090403, 1.        ,\n",
       "        0.17401665],\n",
       "       [0.34399495, 0.37041063, 0.20061869, ..., 0.08883776, 0.17401665,\n",
       "        1.        ]])"
      ]
     },
     "execution_count": 32,
     "metadata": {},
     "output_type": "execute_result"
    }
   ],
   "source": [
    "df_cafe.set_index('cafe_name', inplace=True)\n",
    "tf = TfidfVectorizer(analyzer='word', ngram_range=(1, 3), min_df=0.0, stop_words='english')\n",
    "tfidf_matrix = tf.fit_transform(df_cafe['feature'])\n",
    "cos_sim = cosine_similarity(tfidf_matrix, tfidf_matrix)\n",
    "cos_sim"
   ]
  },
  {
   "cell_type": "code",
   "execution_count": 33,
   "metadata": {},
   "outputs": [
    {
     "data": {
      "text/plain": [
       "0                     Bakoel Koffie Cikini\n",
       "1                   Anomali Coffee Menteng\n",
       "2               Lucky Cat Coffee & Kitchen\n",
       "3                           Anomali Coffee\n",
       "4                  Giyanti Coffee Roastery\n",
       "5                                 The Cafe\n",
       "6                             Arborea Cafe\n",
       "7                            Walking Drums\n",
       "8                       Shisha Cafe Kemang\n",
       "9     Monolog Coffee Company Plaza Senayan\n",
       "10                           Kedai Tjikini\n",
       "11                           Hause Rooftop\n",
       "12                             Kopi Kalyan\n",
       "13                    Langit Seduh Rooftop\n",
       "14                    Saudagar Kopi Sabang\n",
       "15                    1/15 Coffee, Menteng\n",
       "16                                Goedkoop\n",
       "17               Fami Cafe grand indonesia\n",
       "18                    Pison Coffee Jakarta\n",
       "19                    One Fifteenth Coffee\n",
       "20                             Crematology\n",
       "21                         Djournal Coffee\n",
       "22                               Starbucks\n",
       "23                  Kawisari Cafe & Eatery\n",
       "24                     REN Coffee & Eatery\n",
       "25                      Ombe Kofie Menteng\n",
       "26       Cecemuwe Cafe and Space - Senayan\n",
       "27                            KLTR Jakarta\n",
       "28                         Workroom Coffee\n",
       "29           Wake Cup Coffee Graha Harmoni\n",
       "30                    Cafe Kitsune Jakarta\n",
       "31                           Cafe De Burse\n",
       "32                           PERON SKYCAFE\n",
       "33                         Romansa Jakarta\n",
       "34                   Little League Jakarta\n",
       "35      KEN ALIY COFFEE - KOPI ENAK SPACES\n",
       "36                              ou tu cafe\n",
       "37                   Upstairs Rooftop Cafe\n",
       "38       Diskusi Kopi & Ruang Berbagi Kawi\n",
       "39                       BONCAFE INDONESIA\n",
       "40                         Blumchen Coffee\n",
       "41                       Antipodean Coffee\n",
       "42                         Sky Garden Cafe\n",
       "43              The People's Cafe Rajawali\n",
       "44        Kopi Cat Cafe by Groovy - Kemang\n",
       "45               MOREAU Chocolatier's Cafe\n",
       "46                         Atap Rumah Cafe\n",
       "47                     MUG Coffee Kalibata\n",
       "48                           Chill In Cafe\n",
       "49                Fore coffee - Gama tower\n",
       "Name: cafe_name, dtype: object"
      ]
     },
     "execution_count": 33,
     "metadata": {},
     "output_type": "execute_result"
    }
   ],
   "source": [
    "# Set index utama di kolom 'name'\n",
    "indices = pd.Series(df_cafe.index)\n",
    "indices[:50]"
   ]
  },
  {
   "cell_type": "code",
   "execution_count": 39,
   "metadata": {},
   "outputs": [],
   "source": [
    "def recommend_by_name(cafe_name, cos_sim=cos_sim):\n",
    "    recommended_cafe = []\n",
    "\n",
    "    # Mengambil nama kafe berdasarkan variabel indices\n",
    "    idx = indices[indices == cafe_name].index[0]\n",
    "\n",
    "    # Membuat series berdasarkan skor kesamaan\n",
    "    score_series = pd.Series(cos_sim[idx]).sort_values(ascending=False)\n",
    "\n",
    "    # Mengambil index dan dibuat 10 baris rekomendasi terbaik\n",
    "    top_10_indexes = list(score_series.iloc[1:11].index)\n",
    "\n",
    "    for i in top_10_indexes:\n",
    "        recommended_cafe.append(list(df_cafe.index)[i])\n",
    "\n",
    "    return recommended_cafe\n"
   ]
  },
  {
   "cell_type": "code",
   "execution_count": 49,
   "metadata": {},
   "outputs": [
    {
     "data": {
      "text/plain": [
       "['Coffee D. Lites',\n",
       " '1947 Cafe Jakarta',\n",
       " 'Kopi Cat Cafe by Groovy - Kemang',\n",
       " 'One Fifteenth Coffee',\n",
       " 'Super Cup Coffee Shop',\n",
       " '127 Cafe - Kosenda Hotel',\n",
       " \"The People's Cafe Rajawali\",\n",
       " 'Cecemuwe Cafe and Space - Senayan',\n",
       " 'Fami Cafe grand indonesia',\n",
       " 'One Eighty Cafe']"
      ]
     },
     "execution_count": 49,
     "metadata": {},
     "output_type": "execute_result"
    }
   ],
   "source": [
    "recommend_by_name(\"The Cat Cabin\")"
   ]
  },
  {
   "cell_type": "code",
   "execution_count": 75,
   "metadata": {},
   "outputs": [],
   "source": [
    "import Levenshtein\n",
    "\n",
    "def recommend_by_feature(query, cos_sim=cos_sim):\n",
    "    recommended_cafe = []\n",
    "\n",
    "    # Mencari indeks berdasarkan setiap kata kunci dalam kolom 'feature'\n",
    "    matching_indices = set()\n",
    "    \n",
    "    for keyword in query.split():\n",
    "        # Menentukan batas jarak Levenshtein yang diterima\n",
    "        similarity_threshold = 0.4  # Sesuaikan sesuai kebutuhan\n",
    "\n",
    "        # Memfilter kata kunci berdasarkan jarak Levenshtein\n",
    "        similar_keywords = [word for word in df_cafe['feature'].unique() if Levenshtein.ratio(keyword, word) >= similarity_threshold]\n",
    "        \n",
    "        # Mencari indeks kafe yang memiliki setidaknya satu fitur yang cocok dengan kata kunci\n",
    "        matching_indices.update(df_cafe[df_cafe['feature'].apply(lambda x: any(keyword in x for keyword in similar_keywords))].index)\n",
    "\n",
    "    if not matching_indices:\n",
    "        print(f\"Tidak ada kafe yang cocok dengan kata kunci '{query}' dalam kolom 'feature'.\")\n",
    "        return recommended_cafe\n",
    "\n",
    "    # Membuat series berdasarkan skor kesamaan\n",
    "    score_series = pd.Series(cos_sim[list(matching_indices)]).sort_values(ascending=False)\n",
    "\n",
    "    # Mengambil index dan dibuat 10 baris rekomendasi terbaik\n",
    "    top_10_indexes = list(score_series.iloc[1:11].index)\n",
    "\n",
    "    for i in top_10_indexes:\n",
    "        recommended_cafe.append(list(df_cafe.index)[i])\n",
    "\n",
    "    return recommended_cafe\n"
   ]
  },
  {
   "cell_type": "code",
   "execution_count": 57,
   "metadata": {},
   "outputs": [
    {
     "data": {
      "text/plain": [
       "cafe_name\n",
       "Bakoel Koffie Cikini          outdoor, indoor, vintage, art cafe, meeting ca...\n",
       "Anomali Coffee Menteng        outdoor, indoor, minimalis cafe, modern cafe, ...\n",
       "Lucky Cat Coffee & Kitchen    outdoor, indoor, minimalis cafe, 24 hours cafe...\n",
       "Anomali Coffee                outdoor, indoor, industrial cafe, meeting cafe...\n",
       "Giyanti Coffee Roastery       outdoor, indoor, minimalis cafe, art cafe, mee...\n",
       "Name: feature, dtype: object"
      ]
     },
     "execution_count": 57,
     "metadata": {},
     "output_type": "execute_result"
    }
   ],
   "source": [
    "df_cafe[\"feature\"].head()"
   ]
  },
  {
   "cell_type": "code",
   "execution_count": 76,
   "metadata": {},
   "outputs": [
    {
     "name": "stdout",
     "output_type": "stream",
     "text": [
      "Tidak ada kafe yang cocok dengan kata kunci 'outdoor' dalam kolom 'feature'.\n"
     ]
    },
    {
     "data": {
      "text/plain": [
       "[]"
      ]
     },
     "execution_count": 76,
     "metadata": {},
     "output_type": "execute_result"
    }
   ],
   "source": [
    "recommend_by_feature('outdoor')"
   ]
  }
 ],
 "metadata": {
  "kernelspec": {
   "display_name": ".venv",
   "language": "python",
   "name": "python3"
  },
  "language_info": {
   "codemirror_mode": {
    "name": "ipython",
    "version": 3
   },
   "file_extension": ".py",
   "mimetype": "text/x-python",
   "name": "python",
   "nbconvert_exporter": "python",
   "pygments_lexer": "ipython3",
   "version": "3.10.5"
  }
 },
 "nbformat": 4,
 "nbformat_minor": 2
}
